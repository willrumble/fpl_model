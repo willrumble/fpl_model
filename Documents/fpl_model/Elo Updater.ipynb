{
 "cells": [
  {
   "cell_type": "code",
   "execution_count": 71,
   "id": "266a2ea1",
   "metadata": {},
   "outputs": [],
   "source": [
    "import requests\n",
    "import pandas as pd\n",
    "import datetime as dt\n",
    "import matplotlib.pyplot as plt\n",
    "import numpy as np\n",
    "import seaborn as sns\n",
    "import warnings\n",
    "import scipy\n",
    "from sklearn import datasets\n",
    "from sklearn.linear_model import LinearRegression\n",
    "from sklearn.feature_selection import SelectKBest, f_regression\n",
    "from sklearn.model_selection import train_test_split\n",
    "from sklearn.metrics import mean_squared_error\n",
    "from sklearn.model_selection import train_test_split\n",
    "from sklearn.tree import DecisionTreeRegressor\n",
    "from sklearn.metrics import r2_score\n",
    "from sklearn.ensemble import RandomForestRegressor\n",
    "warnings.filterwarnings(\"ignore\")"
   ]
  },
  {
   "cell_type": "code",
   "execution_count": 72,
   "id": "b3a3a85e",
   "metadata": {},
   "outputs": [],
   "source": [
    "df_elo = pd.read_csv('rankings_2020_2023.csv')"
   ]
  },
  {
   "cell_type": "code",
   "execution_count": 73,
   "id": "eb6093d4",
   "metadata": {},
   "outputs": [],
   "source": [
    "last_date = df_elo.tail(1)['date'].iloc[0]"
   ]
  },
  {
   "cell_type": "code",
   "execution_count": 74,
   "id": "5150cd6f",
   "metadata": {},
   "outputs": [],
   "source": [
    "df_list = []\n",
    "for i in pd.date_range(start=last_date,end=dt.date.today()-dt.timedelta(days=1)):\n",
    "    if str(i.date())!=last_date:\n",
    "        df = pd.read_csv('http://api.clubelo.com/'+str(i.date()))\n",
    "        df['date'] = i.date()\n",
    "        df_list.append(df)"
   ]
  },
  {
   "cell_type": "code",
   "execution_count": 75,
   "id": "488a0556",
   "metadata": {},
   "outputs": [],
   "source": [
    "df_add = pd.concat(df_list)\n",
    "df_add = df_add[df_add['Country'].eq('ENG')]\n",
    "df_add['team'] = df_add['Club']\n",
    "df_add['elo'] = df_add['Elo']\n",
    "df_add = df_add[['team', 'date', 'elo']]"
   ]
  },
  {
   "cell_type": "code",
   "execution_count": 76,
   "id": "7b3c63b4",
   "metadata": {},
   "outputs": [],
   "source": [
    "df_elo_new = pd.concat([df_elo.drop(columns='Unnamed: 0'),df_add])"
   ]
  },
  {
   "cell_type": "code",
   "execution_count": 77,
   "id": "f8590ef5",
   "metadata": {},
   "outputs": [],
   "source": [
    "team_map_elo = {\n",
    "    'Man United': 'Man Utd',\n",
    "    'Tottenham': 'Spurs',\n",
    "    \"Forest\": \"Nott'm Forest\",\n",
    "    'Sheffield United': 'Sheffield Utd'\n",
    "}"
   ]
  },
  {
   "cell_type": "code",
   "execution_count": 78,
   "id": "e6dd7e2b",
   "metadata": {},
   "outputs": [],
   "source": [
    "df_elo_new['team'] = df_elo_new['team'].map(team_map_elo).fillna(df_elo_new['team'])"
   ]
  },
  {
   "cell_type": "code",
   "execution_count": 79,
   "id": "7fad93df",
   "metadata": {},
   "outputs": [],
   "source": [
    "df_elo_new.to_csv('rankings_2020_2023.csv')"
   ]
  },
  {
   "cell_type": "code",
   "execution_count": 80,
   "id": "2caa77eb",
   "metadata": {},
   "outputs": [
    {
     "data": {
      "text/html": [
       "<div>\n",
       "<style scoped>\n",
       "    .dataframe tbody tr th:only-of-type {\n",
       "        vertical-align: middle;\n",
       "    }\n",
       "\n",
       "    .dataframe tbody tr th {\n",
       "        vertical-align: top;\n",
       "    }\n",
       "\n",
       "    .dataframe thead th {\n",
       "        text-align: right;\n",
       "    }\n",
       "</style>\n",
       "<table border=\"1\" class=\"dataframe\">\n",
       "  <thead>\n",
       "    <tr style=\"text-align: right;\">\n",
       "      <th></th>\n",
       "      <th>team</th>\n",
       "      <th>date</th>\n",
       "      <th>elo</th>\n",
       "    </tr>\n",
       "  </thead>\n",
       "  <tbody>\n",
       "    <tr>\n",
       "      <th>12</th>\n",
       "      <td>Sheffield Utd</td>\n",
       "      <td>2020-01-01</td>\n",
       "      <td>1689.630249</td>\n",
       "    </tr>\n",
       "    <tr>\n",
       "      <th>56</th>\n",
       "      <td>Sheffield Utd</td>\n",
       "      <td>2020-01-02</td>\n",
       "      <td>1689.630249</td>\n",
       "    </tr>\n",
       "    <tr>\n",
       "      <th>100</th>\n",
       "      <td>Sheffield Utd</td>\n",
       "      <td>2020-01-03</td>\n",
       "      <td>1688.324219</td>\n",
       "    </tr>\n",
       "    <tr>\n",
       "      <th>144</th>\n",
       "      <td>Sheffield Utd</td>\n",
       "      <td>2020-01-04</td>\n",
       "      <td>1688.324219</td>\n",
       "    </tr>\n",
       "    <tr>\n",
       "      <th>188</th>\n",
       "      <td>Sheffield Utd</td>\n",
       "      <td>2020-01-05</td>\n",
       "      <td>1688.324219</td>\n",
       "    </tr>\n",
       "    <tr>\n",
       "      <th>...</th>\n",
       "      <td>...</td>\n",
       "      <td>...</td>\n",
       "      <td>...</td>\n",
       "    </tr>\n",
       "    <tr>\n",
       "      <th>90</th>\n",
       "      <td>Sheffield Utd</td>\n",
       "      <td>2023-09-02</td>\n",
       "      <td>1630.696167</td>\n",
       "    </tr>\n",
       "    <tr>\n",
       "      <th>88</th>\n",
       "      <td>Sheffield Utd</td>\n",
       "      <td>2023-09-03</td>\n",
       "      <td>1630.776489</td>\n",
       "    </tr>\n",
       "    <tr>\n",
       "      <th>89</th>\n",
       "      <td>Sheffield Utd</td>\n",
       "      <td>2023-09-04</td>\n",
       "      <td>1630.776489</td>\n",
       "    </tr>\n",
       "    <tr>\n",
       "      <th>89</th>\n",
       "      <td>Sheffield Utd</td>\n",
       "      <td>2023-09-05</td>\n",
       "      <td>1630.776489</td>\n",
       "    </tr>\n",
       "    <tr>\n",
       "      <th>89</th>\n",
       "      <td>Sheffield Utd</td>\n",
       "      <td>2023-09-06</td>\n",
       "      <td>1630.776489</td>\n",
       "    </tr>\n",
       "  </tbody>\n",
       "</table>\n",
       "<p>1345 rows × 3 columns</p>\n",
       "</div>"
      ],
      "text/plain": [
       "              team        date          elo\n",
       "12   Sheffield Utd  2020-01-01  1689.630249\n",
       "56   Sheffield Utd  2020-01-02  1689.630249\n",
       "100  Sheffield Utd  2020-01-03  1688.324219\n",
       "144  Sheffield Utd  2020-01-04  1688.324219\n",
       "188  Sheffield Utd  2020-01-05  1688.324219\n",
       "..             ...         ...          ...\n",
       "90   Sheffield Utd  2023-09-02  1630.696167\n",
       "88   Sheffield Utd  2023-09-03  1630.776489\n",
       "89   Sheffield Utd  2023-09-04  1630.776489\n",
       "89   Sheffield Utd  2023-09-05  1630.776489\n",
       "89   Sheffield Utd  2023-09-06  1630.776489\n",
       "\n",
       "[1345 rows x 3 columns]"
      ]
     },
     "execution_count": 80,
     "metadata": {},
     "output_type": "execute_result"
    }
   ],
   "source": [
    "df_elo_new[df_elo_new['team'].eq('Sheffield Utd')]"
   ]
  },
  {
   "cell_type": "code",
   "execution_count": null,
   "id": "94ddd246",
   "metadata": {},
   "outputs": [],
   "source": []
  }
 ],
 "metadata": {
  "kernelspec": {
   "display_name": "Python 3 (ipykernel)",
   "language": "python",
   "name": "python3"
  },
  "language_info": {
   "codemirror_mode": {
    "name": "ipython",
    "version": 3
   },
   "file_extension": ".py",
   "mimetype": "text/x-python",
   "name": "python",
   "nbconvert_exporter": "python",
   "pygments_lexer": "ipython3",
   "version": "3.9.10"
  }
 },
 "nbformat": 4,
 "nbformat_minor": 5
}
